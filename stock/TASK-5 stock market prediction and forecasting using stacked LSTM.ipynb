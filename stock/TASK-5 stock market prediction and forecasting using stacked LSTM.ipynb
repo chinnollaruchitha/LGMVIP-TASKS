{
 "cells": [
  {
   "cell_type": "markdown",
   "id": "6107fce4",
   "metadata": {},
   "source": [
    " # TASK 5- Stock_Market_Prediction_And_Forecasting_Using_Stacked_LSTM"
   ]
  },
  {
   "cell_type": "markdown",
   "id": "39aa5e8b",
   "metadata": {},
   "source": [
    "# Dataset link: https://raw.githubusercontent.com/mwitiderrick/stockprice/master/NSE-TATAGLOBAL.csv"
   ]
  },
  {
   "cell_type": "markdown",
   "id": "79b9988e",
   "metadata": {},
   "source": [
    "# Import necessary Libraries"
   ]
  },
  {
   "cell_type": "code",
   "execution_count": null,
   "id": "86b8f20e",
   "metadata": {},
   "outputs": [],
   "source": [
    "import pandas as pd\n",
    "import numpy as np\n",
    "import math\n",
    "import matplotlib.pyplot as plt\n",
    "from sklearn.preprocessing import MinMaxScaler\n",
    "from sklearn.metrics import mean_squared_error\n",
    "import tensorflow as tf\n",
    "from tensorflow.python.keras.models import Sequential\n",
    "from tensorflow.python.keras.layers import Dense\n",
    "from tensorflow.python.keras.layers import LSTM\n",
    "%matplotlib inline"
   ]
  },
  {
   "cell_type": "markdown",
   "id": "37a7703d",
   "metadata": {},
   "source": [
    "# Import the data and remove rows containing NAN values"
   ]
  },
  {
   "cell_type": "code",
   "execution_count": null,
   "id": "5868a758",
   "metadata": {},
   "outputs": [],
   "source": [
    "df = pd.read_csv('NSE-TATAGLOBAL.csv')\n",
    "df=df. iloc[::-1]\n",
    "df.head()"
   ]
  },
  {
   "cell_type": "code",
   "execution_count": null,
   "id": "8236a333",
   "metadata": {},
   "outputs": [],
   "source": [
    "!pip install pandas"
   ]
  },
  {
   "cell_type": "code",
   "execution_count": null,
   "id": "65d05853",
   "metadata": {},
   "outputs": [],
   "source": [
    "df.tail()"
   ]
  },
  {
   "cell_type": "markdown",
   "id": "143941b2",
   "metadata": {},
   "source": [
    "# Data Preprocessing"
   ]
  },
  {
   "cell_type": "code",
   "execution_count": null,
   "id": "0d3ecc0c",
   "metadata": {},
   "outputs": [],
   "source": [
    "df.isnull().sum()"
   ]
  },
  {
   "cell_type": "markdown",
   "id": "ec4bd0e3",
   "metadata": {},
   "source": [
    "# No null values found"
   ]
  },
  {
   "cell_type": "code",
   "execution_count": null,
   "id": "42e88b5b",
   "metadata": {},
   "outputs": [],
   "source": [
    "df.shape"
   ]
  },
  {
   "cell_type": "code",
   "execution_count": null,
   "id": "542be015",
   "metadata": {},
   "outputs": [],
   "source": [
    "df_High=df.reset_index()['High']\n",
    "plt.plot(df_High)\n",
    "plt.title(\"High\")"
   ]
  },
  {
   "cell_type": "markdown",
   "id": "a615303e",
   "metadata": {},
   "source": [
    "# Since LSTM are sensitive to the scale of the data, so we apply MinMax Scaler to transform our values between 0 and 1"
   ]
  },
  {
   "cell_type": "code",
   "execution_count": null,
   "id": "13146761",
   "metadata": {},
   "outputs": [],
   "source": [
    "scaler = MinMaxScaler(feature_range = (0,1))\n",
    "df_High = scaler.fit_transform(np.array(df_High).reshape(-1,1))"
   ]
  },
  {
   "cell_type": "code",
   "execution_count": null,
   "id": "d67dfca0",
   "metadata": {},
   "outputs": [],
   "source": [
    "df_High.shape"
   ]
  },
  {
   "cell_type": "code",
   "execution_count": null,
   "id": "93633d8f",
   "metadata": {},
   "outputs": [],
   "source": [
    "df_High"
   ]
  },
  {
   "cell_type": "markdown",
   "id": "b5cffe53",
   "metadata": {},
   "source": [
    "# Split the data into train and test split"
   ]
  },
  {
   "cell_type": "code",
   "execution_count": null,
   "id": "8fe1d391",
   "metadata": {},
   "outputs": [],
   "source": [
    "training_size = int(len(df_High) * 0.75)\n",
    "test_size = len(df_High) - training_size\n",
    "train_data, test_data = df_High[0:training_size,:], df_High[training_size:len(df_High),:1]"
   ]
  },
  {
   "cell_type": "code",
   "execution_count": null,
   "id": "46f16af5",
   "metadata": {},
   "outputs": [],
   "source": [
    "training_size,test_size"
   ]
  },
  {
   "cell_type": "code",
   "execution_count": null,
   "id": "5ef2213d",
   "metadata": {},
   "outputs": [],
   "source": [
    "def create_dataset(dataset, time_step = 1):\n",
    "    dataX, dataY = [], []\n",
    "    for i in range(len(dataset) - time_step - 1):\n",
    "        a = dataset[i:(i+time_step), 0]\n",
    "        dataX.append(a)\n",
    "        dataY.append(dataset[i+time_step, 0])\n",
    "    return np.array(dataX), np.array(dataY)"
   ]
  },
  {
   "cell_type": "code",
   "execution_count": null,
   "id": "e67ea9ea",
   "metadata": {},
   "outputs": [],
   "source": [
    "time_step = 100\n",
    "x_train, y_train = create_dataset(train_data, time_step)\n",
    "x_test, y_test = create_dataset(test_data, time_step)"
   ]
  },
  {
   "cell_type": "markdown",
   "id": "83dc19fd",
   "metadata": {},
   "source": [
    "# Reshape the input to be [samples, time steps, features] which is the requirement of LSTM"
   ]
  },
  {
   "cell_type": "code",
   "execution_count": null,
   "id": "68f5deac",
   "metadata": {},
   "outputs": [],
   "source": [
    "x_train = x_train.reshape(x_train.shape[0], x_train.shape[1], 1)\n",
    "x_test = x_test.reshape(x_test.shape[0], x_test.shape[1], 1)"
   ]
  },
  {
   "cell_type": "code",
   "execution_count": null,
   "id": "fd1db9d4",
   "metadata": {},
   "outputs": [],
   "source": [
    "print(x_train.shape), print(y_train.shape)"
   ]
  },
  {
   "cell_type": "code",
   "execution_count": null,
   "id": "235300c5",
   "metadata": {},
   "outputs": [],
   "source": [
    "print(x_test.shape), print(y_test.shape)"
   ]
  },
  {
   "cell_type": "markdown",
   "id": "edce7256",
   "metadata": {},
   "source": [
    "# Create the LSTM Model"
   ]
  },
  {
   "cell_type": "code",
   "execution_count": null,
   "id": "8a089244",
   "metadata": {},
   "outputs": [],
   "source": [
    "model = Sequential()\n",
    "model.add(LSTM(50, return_sequences = True, input_shape = (100,1)))\n",
    "model.add(LSTM(50, return_sequences = True))\n",
    "model.add(LSTM(50))\n",
    "model.add(Dense(1))\n",
    "model.compile(loss = 'mean_squared_error', optimizer = 'adam')"
   ]
  },
  {
   "cell_type": "code",
   "execution_count": null,
   "id": "3ff2c34d",
   "metadata": {},
   "outputs": [],
   "source": [
    "model.summary()"
   ]
  },
  {
   "cell_type": "code",
   "execution_count": null,
   "id": "89c3c05e",
   "metadata": {},
   "outputs": [],
   "source": [
    "model.fit(x_train, y_train, validation_data = (x_test, y_test), epochs = 100, batch_size = 64, verbose = 1)"
   ]
  },
  {
   "cell_type": "markdown",
   "id": "888f100c",
   "metadata": {},
   "source": [
    "# Lets predict and check performance metrics"
   ]
  },
  {
   "cell_type": "code",
   "execution_count": null,
   "id": "fc14dec6",
   "metadata": {},
   "outputs": [],
   "source": [
    "train_predict = model.predict(x_train)\n",
    "test_predict = model.predict(x_test)"
   ]
  },
  {
   "cell_type": "markdown",
   "id": "048e305e",
   "metadata": {},
   "source": [
    "# Transform back to original form"
   ]
  },
  {
   "cell_type": "code",
   "execution_count": null,
   "id": "d6dc8ff8",
   "metadata": {},
   "outputs": [],
   "source": [
    "train_predict = scaler.inverse_transform(train_predict)\n",
    "test_predict = scaler.inverse_transform(test_predict)"
   ]
  },
  {
   "cell_type": "markdown",
   "id": "789ac9c7",
   "metadata": {},
   "source": [
    "# Calculate RMSE performance metrics"
   ]
  },
  {
   "cell_type": "code",
   "execution_count": null,
   "id": "44eb91df",
   "metadata": {},
   "outputs": [],
   "source": [
    "math.sqrt(mean_squared_error(y_train, train_predict))"
   ]
  },
  {
   "cell_type": "code",
   "execution_count": null,
   "id": "a01d9eea",
   "metadata": {},
   "outputs": [],
   "source": [
    "!pip install y_train"
   ]
  },
  {
   "cell_type": "markdown",
   "id": "e84eb74f",
   "metadata": {},
   "source": [
    "# Test Data RMSE"
   ]
  },
  {
   "cell_type": "code",
   "execution_count": null,
   "id": "647b0989",
   "metadata": {},
   "outputs": [],
   "source": [
    "math.sqrt(mean_squared_error(y_test, test_predict))"
   ]
  }
 ],
 "metadata": {
  "kernelspec": {
   "display_name": "Python 3",
   "language": "python",
   "name": "python3"
  },
  "language_info": {
   "codemirror_mode": {
    "name": "ipython",
    "version": 3
   },
   "file_extension": ".py",
   "mimetype": "text/x-python",
   "name": "python",
   "nbconvert_exporter": "python",
   "pygments_lexer": "ipython3",
   "version": "3.8.8"
  }
 },
 "nbformat": 4,
 "nbformat_minor": 5
}
